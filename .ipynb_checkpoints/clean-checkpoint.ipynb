{
 "cells": [
  {
   "cell_type": "code",
   "execution_count": 2,
   "metadata": {},
   "outputs": [],
   "source": [
    "import numpy as np\n",
    "import pandas as pd"
   ]
  },
  {
   "cell_type": "code",
   "execution_count": 4,
   "metadata": {},
   "outputs": [],
   "source": [
    "df = pd.read_csv('интерполяция.csv', engine='python', sep=';', encoding='utf-8')\n",
    "del df['Unnamed: 0.1']"
   ]
  },
  {
   "cell_type": "code",
   "execution_count": 5,
   "metadata": {},
   "outputs": [],
   "source": [
    "del df['Unnamed: 0']"
   ]
  },
  {
   "cell_type": "code",
   "execution_count": 6,
   "metadata": {},
   "outputs": [],
   "source": [
    "def get_nans_intervals(v):\n",
    "    # это слишком гениально, чтобы объяснять\n",
    "    # возвращает все интервалы из идущих подряд нанов в векторе\n",
    "    m = np.concatenate(([True], ~pd.isnull(v), [True]))\n",
    "    return np.flatnonzero(m[1:] != m[:-1]).reshape(-1, 2)"
   ]
  },
  {
   "cell_type": "code",
   "execution_count": 7,
   "metadata": {},
   "outputs": [],
   "source": [
    "def get_len(interval):\n",
    "    return interval[1] - interval[0]"
   ]
  },
  {
   "cell_type": "code",
   "execution_count": 8,
   "metadata": {},
   "outputs": [],
   "source": [
    "# чистим те, что без данных за весь период\n",
    "\n",
    "features_to_check = list(df)[18:-3]\n",
    "\n",
    "indexes_to_drop = set()\n",
    "for col_name in features_to_check:\n",
    "    for i in df['index'].unique():\n",
    "        # если банк уже в списке на удаление, проверять его не имеет смысла\n",
    "        if i not in indexes_to_drop:\n",
    "            column = df[df['index'] == i][col_name]\n",
    "            nan_intervals = get_nans_intervals(column)\n",
    "            # банк нужно удалить, если есть всего один интервал из nan'ов и он по длине равен длине самой колонки\n",
    "            if len(nan_intervals == 1) and get_len(nan_intervals[0]) == len(column):\n",
    "                indexes_to_drop.add(i)"
   ]
  },
  {
   "cell_type": "code",
   "execution_count": 6,
   "metadata": {},
   "outputs": [
    {
     "data": {
      "text/plain": [
       "110"
      ]
     },
     "execution_count": 6,
     "metadata": {},
     "output_type": "execute_result"
    }
   ],
   "source": [
    "len(indexes_to_drop)"
   ]
  },
  {
   "cell_type": "code",
   "execution_count": 9,
   "metadata": {},
   "outputs": [
    {
     "data": {
      "text/plain": [
       "['Чистые активы, RUB',\n",
       " 'Счета в Банке России, RUB',\n",
       " 'Коррсчета (НОСТРО), RUB',\n",
       " 'Ценные бумаги, RUB',\n",
       " 'Кредиты, RUB',\n",
       " 'Кредиты организациям, RUB',\n",
       " 'Кредиты физическим лицам, RUB',\n",
       " 'Кредиты другим банкам (МБК), RUB',\n",
       " 'Основные средства, RUB',\n",
       " 'Учтённые векселя, RUB',\n",
       " 'Прибыль (убыток) до налогообложения, RUB',\n",
       " 'Коррсчета (ЛОРО), RUB',\n",
       " 'Кредиты других банков (МБК), RUB',\n",
       " 'Средства клиентов, RUB',\n",
       " 'Средства организаций на расчетных счетах, RUB',\n",
       " 'Депозиты юридических лиц, RUB',\n",
       " 'Вклады физических лиц, RUB',\n",
       " 'Облигации, RUB',\n",
       " 'Векселя, RUB',\n",
       " 'Резервы на возможные потери, RUB',\n",
       " 'Капитал, RUB',\n",
       " 'Коэффициент покрытия Кредитного портфеля, %',\n",
       " 'Коэффициент обеспечения Кредитного портфеля, %',\n",
       " 'Коэффициент просроченной задолженности в Кредитном портфеле, %']"
      ]
     },
     "execution_count": 9,
     "metadata": {},
     "output_type": "execute_result"
    }
   ],
   "source": [
    "features_to_check"
   ]
  },
  {
   "cell_type": "code",
   "execution_count": 10,
   "metadata": {},
   "outputs": [],
   "source": [
    "df = df[~df['index'].isin(indexes_to_drop)]"
   ]
  },
  {
   "cell_type": "code",
   "execution_count": 8,
   "metadata": {},
   "outputs": [],
   "source": [
    "# for col_name in features_to_check:\n",
    "#     print(get_nans_intervals(df[df['index'] == 97][col_name]))"
   ]
  },
  {
   "cell_type": "code",
   "execution_count": 9,
   "metadata": {},
   "outputs": [],
   "source": [
    "# index_mask = (df['index'] == 97)\n",
    "# for col_name in features_to_check:\n",
    "#     column = df[index_mask][col_name]\n",
    "#     for nan_interval in get_nans_intervals(column):\n",
    "#         if get_len(nan_interval) <= 4:\n",
    "#             if 0 in nan_interval:\n",
    "#                 df.loc[index_mask, col_name] = df[index_mask][col_name].bfill()\n",
    "#             elif len(column) in nan_interval:\n",
    "#                 df.loc[index_mask, col_name] = df[index_mask][col_name].ffill()"
   ]
  },
  {
   "cell_type": "code",
   "execution_count": 10,
   "metadata": {},
   "outputs": [],
   "source": [
    "# for col_name in features_to_check:\n",
    "#     print(get_nans_intervals(df[df['index'] == 97][col_name]))"
   ]
  },
  {
   "cell_type": "code",
   "execution_count": 11,
   "metadata": {},
   "outputs": [],
   "source": [
    "row_indexes_to_drop = []\n",
    "for i in df['index'].unique():\n",
    "    index_mask = (df['index'] == i)\n",
    "    for col_name in features_to_check:\n",
    "        column = df[index_mask][col_name]\n",
    "        nan_intervals = get_nans_intervals(column)\n",
    "        for nan_interval in nan_intervals:\n",
    "            if get_len(nan_interval) <= 4:\n",
    "                # если в nan_interval содержится 0, значит, есть кусок пропусков в начале\n",
    "                if 0 in nan_interval:\n",
    "                    df.loc[index_mask, col_name] = df[index_mask][col_name].bfill()\n",
    "                # аналогично с len(column) и концом\n",
    "                elif len(column) in nan_interval:\n",
    "                    df.loc[index_mask, col_name] = df[index_mask][col_name].ffill()\n",
    "            # если длина пропуска больше 4 и банк действующий, добавляем индексы nan'ов в список на удаление\n",
    "            elif df[index_mask].iloc[0].status:\n",
    "                row_indexes_to_drop.extend(df[index_mask].index[nan_interval[0]:nan_interval[1]])\n",
    "                \n",
    "                \n",
    "# Печатает индексы и колонки, в которых есть пропуски посередине        \n",
    "#         try:\n",
    "#             assert len(nan_intervals) < 3\n",
    "#             if len(nan_intervals) == 1:\n",
    "#                 assert 0 in nan_intervals[0] or len(df[df['index'] == i][col]) in nan_intervals[0]\n",
    "#             elif len(nan_intervals) == 2:\n",
    "#                 assert 0 in nan_intervals[0] and len(df[df['index'] == i][col]) in nan_intervals[1]\n",
    "#         except AssertionError:\n",
    "#             print(i, col_name, len(column), nan_intervals)"
   ]
  },
  {
   "cell_type": "code",
   "execution_count": 12,
   "metadata": {},
   "outputs": [
    {
     "data": {
      "text/plain": [
       "9053"
      ]
     },
     "execution_count": 12,
     "metadata": {},
     "output_type": "execute_result"
    }
   ],
   "source": [
    "len(row_indexes_to_drop)"
   ]
  },
  {
   "cell_type": "code",
   "execution_count": 13,
   "metadata": {},
   "outputs": [
    {
     "data": {
      "text/plain": [
       "(45861, 45)"
      ]
     },
     "execution_count": 13,
     "metadata": {},
     "output_type": "execute_result"
    }
   ],
   "source": [
    "df = df[~df.index.isin(row_indexes_to_drop)]\n",
    "df.shape"
   ]
  },
  {
   "cell_type": "code",
   "execution_count": 14,
   "metadata": {},
   "outputs": [],
   "source": [
    "df.to_csv('final.csv', sep=';', index=None)"
   ]
  },
  {
   "cell_type": "code",
   "execution_count": null,
   "metadata": {},
   "outputs": [],
   "source": []
  }
 ],
 "metadata": {
  "kernelspec": {
   "display_name": "Python 3",
   "language": "python",
   "name": "python3"
  },
  "language_info": {
   "codemirror_mode": {
    "name": "ipython",
    "version": 3
   },
   "file_extension": ".py",
   "mimetype": "text/x-python",
   "name": "python",
   "nbconvert_exporter": "python",
   "pygments_lexer": "ipython3",
   "version": "3.6.5"
  }
 },
 "nbformat": 4,
 "nbformat_minor": 2
}
